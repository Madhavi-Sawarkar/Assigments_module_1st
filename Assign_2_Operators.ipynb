{
 "cells": [
  {
   "cell_type": "code",
   "execution_count": 10,
   "id": "6009c1c2-fa82-4e61-82ff-571ef8b75deb",
   "metadata": {},
   "outputs": [
    {
     "name": "stdout",
     "output_type": "stream",
     "text": [
      "The Addition is : 164\n",
      "The Substraction is : 8\n",
      "The Multiplication is : 6708\n",
      "The Division is : 1.1025641025641026\n"
     ]
    }
   ],
   "source": [
    "#1. Calculate the sum, difference, product, and quotient of two numbers.\n",
    "\n",
    "ab = 86\n",
    "bc = 78\n",
    "add = ab + bc\n",
    "sub = ab - bc\n",
    "mul = ab * bc\n",
    "div = ab / bc\n",
    "print(\"The Addition is :\",add)\n",
    "print(\"The Substraction is :\",sub)\n",
    "print(\"The Multiplication is :\",mul)\n",
    "print(\"The Division is :\",div)\n"
   ]
  },
  {
   "cell_type": "code",
   "execution_count": 22,
   "id": "5a3e64b7-94a2-4067-8b0d-e2c37517d3c0",
   "metadata": {},
   "outputs": [
    {
     "name": "stdout",
     "output_type": "stream",
     "text": [
      "The values are :  \n",
      " 15 \n",
      " 12 \n",
      " 24 \n",
      " 6.0 \n",
      " 2.0 \n",
      " 8.0 \n",
      " 4.0\n"
     ]
    }
   ],
   "source": [
    "#2. Perform various assignment operations on a variable.\n",
    "\n",
    "a = 10\n",
    "\n",
    "a += 5   # a = a + 5\n",
    "b = a    # b = 15\n",
    "\n",
    "a -= 3   # a = a - 3\n",
    "c = a    # c = 12\n",
    "\n",
    "a *= 2   # a = a * 2\n",
    "d = a    # d = 24\n",
    "\n",
    "a /= 4   # a = a / 4\n",
    "e = a    # e = 6.0\n",
    "\n",
    "a %= 4   # a = a % 4\n",
    "f = a    # f = 2.0\n",
    "\n",
    "a **= 3  # a = a ** 3\n",
    "g = a    # g = 8.0\n",
    "\n",
    "a //= 2  # a = a // 2\n",
    "h = a    # h = 4.0\n",
    "\n",
    "print(\"The values are : \",\"\\n\",b,\"\\n\",c,\"\\n\",d,\"\\n\",e,\"\\n\",f,\"\\n\",g,\"\\n\",h)\n"
   ]
  },
  {
   "cell_type": "code",
   "execution_count": 33,
   "id": "7194a990-b8de-4659-8f57-509b8952757c",
   "metadata": {},
   "outputs": [
    {
     "name": "stdout",
     "output_type": "stream",
     "text": [
      "True False False True True False\n"
     ]
    }
   ],
   "source": [
    "#3. Compare two numbers and print the results.\n",
    "\n",
    "x = 10\n",
    "y = 5\n",
    "greater = x > y      \n",
    "less = x < y         \n",
    "equal = x == y       \n",
    "not_equal = x != y    \n",
    "greater_equal = x >= y \n",
    "less_equal = x <= y \n",
    "\n",
    "print(greater,less,equal,not_equal,greater_equal,less_equal)\n"
   ]
  },
  {
   "cell_type": "code",
   "execution_count": 39,
   "id": "46c344ed-4f09-433f-8ee3-09e7234e4bdd",
   "metadata": {},
   "outputs": [
    {
     "name": "stdout",
     "output_type": "stream",
     "text": [
      "False True False True\n"
     ]
    }
   ],
   "source": [
    "#4. Check conditions using logical operators.\n",
    "\n",
    "a = True\n",
    "b = False\n",
    "\n",
    "and_res = a and b\n",
    "or_res = a or b\n",
    "not_res_a = not a\n",
    "not_res_b = not b\n",
    "\n",
    "print(and_res,or_res,not_res_a,not_res_b)\n"
   ]
  },
  {
   "cell_type": "code",
   "execution_count": 51,
   "id": "19dba421-a3d1-4e3a-b7cf-e5ba71da607d",
   "metadata": {},
   "outputs": [
    {
     "name": "stdout",
     "output_type": "stream",
     "text": [
      "True\n"
     ]
    }
   ],
   "source": [
    "#5. Check the identity of variables.\n",
    "x = [1, 2, 3]\n",
    "y = x\n",
    "id_check = x is y \n",
    "\n",
    "print(id_check) \n"
   ]
  },
  {
   "cell_type": "code",
   "execution_count": 50,
   "id": "ba93a94b-eb41-4315-9d2a-05cd15acdff5",
   "metadata": {},
   "outputs": [
    {
     "name": "stdout",
     "output_type": "stream",
     "text": [
      "-5\n",
      "-6\n"
     ]
    }
   ],
   "source": [
    "#6. Use unary operators to change the sign of a number.\n",
    "a = 5\n",
    "print(-a)\n",
    "\n",
    "b = 6\n",
    "print(~b+1)"
   ]
  },
  {
   "cell_type": "code",
   "execution_count": 46,
   "id": "444aec67-f53b-48ac-ac84-1d684b8d2d1e",
   "metadata": {},
   "outputs": [
    {
     "name": "stdout",
     "output_type": "stream",
     "text": [
      "The Bitwise AND operation result is : 4\n",
      "The Bitwise OR operation result is : 5\n"
     ]
    }
   ],
   "source": [
    "#7. Perform bitwise operations on any two integers.\n",
    "\n",
    "a = 5\n",
    "b = 4\n",
    "\n",
    "res = a & b\n",
    "res1 = a | b\n",
    "\n",
    "print(\"The Bitwise AND operation result is :\",res)\n",
    "print(\"The Bitwise OR operation result is :\",res1)"
   ]
  },
  {
   "cell_type": "code",
   "execution_count": 52,
   "id": "15483051-c382-443e-a1f7-712096d9ef4e",
   "metadata": {},
   "outputs": [
    {
     "name": "stdout",
     "output_type": "stream",
     "text": [
      "y is greater\n"
     ]
    }
   ],
   "source": [
    "#8. Use the ternary operator to assign values based on conditions.\n",
    "\n",
    "x = 10\n",
    "y = 20\n",
    "\n",
    "result = \"x is greater\" if x > y else \"y is greater\"\n",
    "\n",
    "print(result)  "
   ]
  }
 ],
 "metadata": {
  "kernelspec": {
   "display_name": "Python 3 (ipykernel)",
   "language": "python",
   "name": "python3"
  },
  "language_info": {
   "codemirror_mode": {
    "name": "ipython",
    "version": 3
   },
   "file_extension": ".py",
   "mimetype": "text/x-python",
   "name": "python",
   "nbconvert_exporter": "python",
   "pygments_lexer": "ipython3",
   "version": "3.10.8"
  }
 },
 "nbformat": 4,
 "nbformat_minor": 5
}
