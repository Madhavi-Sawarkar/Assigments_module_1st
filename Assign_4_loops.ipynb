{
 "cells": [
  {
   "cell_type": "code",
   "execution_count": 4,
   "id": "48965cc1-3519-4afb-8406-060f36e1ec22",
   "metadata": {},
   "outputs": [],
   "source": [
    "#1. Print numbers from 1 to 5 using a while loop.\n",
    "#2. Calculate the sum of numbers from 1 to 10 using a while loop.\n",
    "#3. Calculate the factorial of a number using a for loop.\n",
    "#4. Count the number of vowels in a string using a for loop.\n",
    "#5. Print a pattern using nested loops.\n",
    "#6. Generate a multiplication table using nested loops."
   ]
  },
  {
   "cell_type": "code",
   "execution_count": 3,
   "id": "fb8fa696-6efc-4001-97b9-2091593ee835",
   "metadata": {},
   "outputs": [
    {
     "name": "stdout",
     "output_type": "stream",
     "text": [
      "1\n",
      "2\n",
      "3\n",
      "4\n",
      "5\n"
     ]
    }
   ],
   "source": [
    "#Ans no 1:\n",
    "\n",
    "a = 1\n",
    "while a <= 5:\n",
    "    print(a)\n",
    "    a+=1"
   ]
  },
  {
   "cell_type": "code",
   "execution_count": 5,
   "id": "7072c973-dd33-4030-976b-d27a50b94630",
   "metadata": {},
   "outputs": [
    {
     "name": "stdout",
     "output_type": "stream",
     "text": [
      "The sum of numbers from 1 to 10 is: 55\n"
     ]
    }
   ],
   "source": [
    "#Ans no 2:\n",
    "num = 1\n",
    "total_sum = 0\n",
    "while num <= 10:\n",
    "    total_sum += num\n",
    "    num += 1\n",
    "print(\"The sum of numbers from 1 to 10 is:\", total_sum)"
   ]
  },
  {
   "cell_type": "code",
   "execution_count": 10,
   "id": "59e4a977-735a-4b3a-95ab-eb9e50cfa356",
   "metadata": {},
   "outputs": [
    {
     "name": "stdin",
     "output_type": "stream",
     "text": [
      "Give the number: 6\n"
     ]
    },
    {
     "name": "stdout",
     "output_type": "stream",
     "text": [
      "The factorial of 6 is: 720\n"
     ]
    }
   ],
   "source": [
    "#Ans no 3:\n",
    "def factorial(n):\n",
    "    fact_result = 1\n",
    "    for i in range(1, n + 1):\n",
    "        fact_result *= i\n",
    "    return fact_result\n",
    "\n",
    "number = int(input(\"Give the number:\"))\n",
    "result = factorial(number)\n",
    "print(f\"The factorial of {number} is:\", result)\n"
   ]
  },
  {
   "cell_type": "code",
   "execution_count": 15,
   "id": "495285da-2a3f-4d6e-b308-4ff2e6d1037b",
   "metadata": {},
   "outputs": [
    {
     "name": "stdin",
     "output_type": "stream",
     "text": [
      "String is : PWSkills\n"
     ]
    },
    {
     "name": "stdout",
     "output_type": "stream",
     "text": [
      "Number of vowels: 1\n"
     ]
    }
   ],
   "source": [
    "#Ans no 4:\n",
    "def count_vowels(input_string):\n",
    "    vowels = \"aeiouAEIOU\"\n",
    "    vowel_count = 0\n",
    "\n",
    "    for char in input_string:\n",
    "        if char in vowels:\n",
    "            vowel_count += 1\n",
    "    return vowel_count\n",
    "\n",
    "input_str = input(\"String is :\") #\"Hello World\"\n",
    "num_vowels = count_vowels(input_str)\n",
    "print(\"Number of vowels:\", num_vowels)\n"
   ]
  },
  {
   "cell_type": "code",
   "execution_count": 18,
   "id": "94fcc8df-3cc2-4f54-9bea-285fa780a41d",
   "metadata": {},
   "outputs": [
    {
     "name": "stdout",
     "output_type": "stream",
     "text": [
      "* \n",
      "* * \n",
      "* * * \n",
      "* * * * \n",
      "* * * * * \n"
     ]
    }
   ],
   "source": [
    "#Ans no 5:\n",
    "\n",
    "num_rows = 5\n",
    "\n",
    "for i in range(1, num_rows + 1):\n",
    "    for j in range(1, i + 1):\n",
    "        print(\"*\", end=\" \")  \n",
    "    print()\n"
   ]
  },
  {
   "cell_type": "code",
   "execution_count": 1,
   "id": "d25808f7-4a77-4884-b261-bfe78e520b37",
   "metadata": {},
   "outputs": [
    {
     "name": "stdin",
     "output_type": "stream",
     "text": [
      "Number of row : 10\n",
      "Number of columns : 10\n"
     ]
    },
    {
     "name": "stdout",
     "output_type": "stream",
     "text": [
      "1\t2\t3\t4\t5\t6\t7\t8\t9\t10\t\n",
      "2\t4\t6\t8\t10\t12\t14\t16\t18\t20\t\n",
      "3\t6\t9\t12\t15\t18\t21\t24\t27\t30\t\n",
      "4\t8\t12\t16\t20\t24\t28\t32\t36\t40\t\n",
      "5\t10\t15\t20\t25\t30\t35\t40\t45\t50\t\n",
      "6\t12\t18\t24\t30\t36\t42\t48\t54\t60\t\n",
      "7\t14\t21\t28\t35\t42\t49\t56\t63\t70\t\n",
      "8\t16\t24\t32\t40\t48\t56\t64\t72\t80\t\n",
      "9\t18\t27\t36\t45\t54\t63\t72\t81\t90\t\n",
      "10\t20\t30\t40\t50\t60\t70\t80\t90\t100\t\n"
     ]
    }
   ],
   "source": [
    "#Ans no 6:\n",
    "\n",
    "num_rows = int(input(\"Number of row :\")) #give 10\n",
    "num_cols = int(input(\"Number of columns :\")) #give 10\n",
    "\n",
    "\n",
    "for i in range(1, num_rows + 1):\n",
    "    for j in range(1, num_cols + 1): \n",
    "        print(i * j, end=\"\\t\")  \n",
    "    print()  \n"
   ]
  },
  {
   "cell_type": "code",
   "execution_count": null,
   "id": "65e03fe5-1fb6-490b-9663-2d11b97ddd7c",
   "metadata": {},
   "outputs": [],
   "source": []
  }
 ],
 "metadata": {
  "kernelspec": {
   "display_name": "Python 3 (ipykernel)",
   "language": "python",
   "name": "python3"
  },
  "language_info": {
   "codemirror_mode": {
    "name": "ipython",
    "version": 3
   },
   "file_extension": ".py",
   "mimetype": "text/x-python",
   "name": "python",
   "nbconvert_exporter": "python",
   "pygments_lexer": "ipython3",
   "version": "3.10.8"
  }
 },
 "nbformat": 4,
 "nbformat_minor": 5
}
