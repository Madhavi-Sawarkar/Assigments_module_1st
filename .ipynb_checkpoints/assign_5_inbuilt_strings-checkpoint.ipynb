{
 "cells": [
  {
   "cell_type": "code",
   "execution_count": 1,
   "id": "2d4ea1c6-67d9-4eec-9620-968520839090",
   "metadata": {},
   "outputs": [],
   "source": [
    "#1. What is the purpose of the len() function in Python, and how can it be used with strings?\n",
    "#2. How can you concatenate two or more strings in Python, and can you provide an example of string concatenation?\n",
    "#3. What is string slicing in Python, and how can you extract a portion of a string using this method?\n",
    "#4. How can you change the case of a string in Python, and can you provide examples of both making a string all uppercase and all lowercase?\n",
    "#5. What does the split() method do in Python, and how can you split a string using a specific delimiter?"
   ]
  },
  {
   "cell_type": "code",
   "execution_count": 2,
   "id": "ec592a43-9d8e-4d22-83bb-53bd741940df",
   "metadata": {},
   "outputs": [
    {
     "name": "stdout",
     "output_type": "stream",
     "text": [
      "Length function gives the length of string : 8\n"
     ]
    }
   ],
   "source": [
    "#Ans no 1:\n",
    "#The len() function in Python tells you how many items are in an object. \n",
    "#When you use it with strings, it shows you how many characters are in the string.\n",
    "\n",
    "s = \"PWskills\"\n",
    "print(\"Length function gives the length of string :\",len(s))"
   ]
  },
  {
   "cell_type": "code",
   "execution_count": 23,
   "id": "71d6b599-fd2b-412d-b111-b68d67fc5fc1",
   "metadata": {},
   "outputs": [
    {
     "name": "stdout",
     "output_type": "stream",
     "text": [
      "Pwskills Provides Data Science Course\n"
     ]
    }
   ],
   "source": [
    "#Ans no 2:\n",
    "#For concatenation we can use '+' sign as well as join() method\n",
    "\n",
    "s1 = \"Pwskills\"\n",
    "s2 = \"Provides Data Science Course\"\n",
    "\n",
    "#s3 = s1 + s2\n",
    "print(s1+\" \"+s2) #using + "
   ]
  },
  {
   "cell_type": "code",
   "execution_count": 24,
   "id": "4e2f66ec-b125-4079-a28e-88e775c0a0cc",
   "metadata": {},
   "outputs": [
    {
     "name": "stdout",
     "output_type": "stream",
     "text": [
      "Pwskills Provides Data Science Course\n"
     ]
    }
   ],
   "source": [
    "res = \" \".join([s1,s2]) # using join() method\n",
    "print(res)"
   ]
  },
  {
   "cell_type": "code",
   "execution_count": 19,
   "id": "69431536-2435-4256-a52e-685cd2b71f3d",
   "metadata": {},
   "outputs": [],
   "source": [
    "#Ans no 3:\n",
    "#String slicing in Python allows you to extract a specific portion of a string by specifying a range of indices{start,stop,step}\n",
    "#start --> staring point,\n",
    "#stop --> end point\n",
    "#step --> interval between indices\n",
    "text = \"Hello, World!\"\n",
    "portion1 = text[0:5]  # \"Hello\" it will take from 0th index to till 4th index \n",
    "portion2 = text[7:12]  # it will take 7th index to 11th index \n",
    "portion3 = text[::-1]  # it will print string in reverse manner\n",
    "print(portion1)  \n",
    "print(portion2)  "
   ]
  },
  {
   "cell_type": "code",
   "execution_count": 29,
   "id": "7b98332c-5839-4888-8ad6-82b6bdde6915",
   "metadata": {},
   "outputs": [
    {
     "name": "stdout",
     "output_type": "stream",
     "text": [
      "This function gives output in lowercase : pwskills\n",
      "This function gives output in Uppercase : PWSKILLS\n",
      "This function gives output in capitalize : Pwskills\n"
     ]
    }
   ],
   "source": [
    "#Ans no 4:\n",
    "#There are some inbuilt function using those function can be check all uppercase lowercase scenarios\n",
    "\n",
    "s1 = \"pWskiLls\"\n",
    "\n",
    "print(\"This function gives output in lowercase :\",s1.lower())\n",
    "print(\"This function gives output in Uppercase :\",s1.upper())\n",
    "print(\"This function gives output in capitalize :\",s1.capitalize())\n"
   ]
  },
  {
   "cell_type": "code",
   "execution_count": 40,
   "id": "c66701e7-9ee2-4790-b9ae-0c30dff15123",
   "metadata": {},
   "outputs": [
    {
     "data": {
      "text/plain": [
       "['Pwskills', 'Provides', 'Data', 'Scicence', 'Course']"
      ]
     },
     "execution_count": 40,
     "metadata": {},
     "output_type": "execute_result"
    }
   ],
   "source": [
    "#Ans no 5:\n",
    "#Using Split() method we can separate whole string , bascially it is used to divide the string into a list of substrings.\n",
    "\n",
    "s = \"Pwskills,Provides,Data,Scicence,Course\"\n",
    "\n",
    "s.split(\",\")"
   ]
  }
 ],
 "metadata": {
  "kernelspec": {
   "display_name": "Python 3 (ipykernel)",
   "language": "python",
   "name": "python3"
  },
  "language_info": {
   "codemirror_mode": {
    "name": "ipython",
    "version": 3
   },
   "file_extension": ".py",
   "mimetype": "text/x-python",
   "name": "python",
   "nbconvert_exporter": "python",
   "pygments_lexer": "ipython3",
   "version": "3.10.8"
  }
 },
 "nbformat": 4,
 "nbformat_minor": 5
}
