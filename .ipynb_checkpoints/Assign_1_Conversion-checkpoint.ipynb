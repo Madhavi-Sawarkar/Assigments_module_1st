{
 "cells": [
  {
   "cell_type": "code",
   "execution_count": 27,
   "id": "a48d88fc-ea2a-485b-b97c-83cf130391a2",
   "metadata": {},
   "outputs": [
    {
     "name": "stdout",
     "output_type": "stream",
     "text": [
      "Type is : <class 'int'>\n",
      "Type is : <class 'float'>\n",
      "Converting to Float: 6.0\n"
     ]
    }
   ],
   "source": [
    "#1.Convert an integer to a floating-point number.\n",
    "a = 6\n",
    "print(\"Type is :\",type(a))\n",
    "b=float(a)\n",
    "print(\"Type is :\",type(b))\n",
    "print(\"Converting to Float:\",b)"
   ]
  },
  {
   "cell_type": "code",
   "execution_count": 66,
   "id": "259ea4c7-f9c5-417c-9506-24c82892f74f",
   "metadata": {},
   "outputs": [
    {
     "name": "stdout",
     "output_type": "stream",
     "text": [
      "Type is : <class 'float'>\n",
      "Type is : <class 'int'>\n",
      "Converting to Integer: 66\n"
     ]
    }
   ],
   "source": [
    "#2.Convert a float to an integer.\n",
    "a = 66.4545687327\n",
    "print(\"Type is :\",type(a))\n",
    "b=int(a)\n",
    "print(\"Type is :\",type(b))\n",
    "print(\"Converting to Integer:\",b)"
   ]
  },
  {
   "cell_type": "code",
   "execution_count": 64,
   "id": "d90a9767-ed3e-4108-8b1d-6765850425ad",
   "metadata": {},
   "outputs": [
    {
     "name": "stdout",
     "output_type": "stream",
     "text": [
      "Type is: <class 'float'>\n",
      "Converting to String: 99.8\n",
      "Type is: <class 'str'>\n"
     ]
    }
   ],
   "source": [
    "#3.Convert an integer to a String.\n",
    "a = 99.8\n",
    "b=str(a)\n",
    "print(\"Type is:\",type(a))\n",
    "print(\"Converting to String:\",b)\n",
    "print(\"Type is:\",type(b))\n"
   ]
  },
  {
   "cell_type": "code",
   "execution_count": 49,
   "id": "c235972b-cd89-4189-8474-611fb02bef53",
   "metadata": {},
   "outputs": [
    {
     "name": "stdout",
     "output_type": "stream",
     "text": [
      "Type is : <class 'list'>\n",
      "[1, 2, 'a', 'abc', 10.9, (3+7j)]\n"
     ]
    }
   ],
   "source": [
    "#4.Convert an List to a Tuple.\n",
    "lis = [1,2,'a','abc',10.9,3+7j]\n",
    "print(\"Type is :\",type(lis))\n",
    "print(lis)"
   ]
  },
  {
   "cell_type": "code",
   "execution_count": 45,
   "id": "7a5dad21-c654-4e31-b335-2d9f0b9dfd17",
   "metadata": {},
   "outputs": [
    {
     "name": "stdout",
     "output_type": "stream",
     "text": [
      "(1, 2, 'a', 'abc', 10.9, (3+7j))\n"
     ]
    }
   ],
   "source": [
    "tup=tuple(lis)\n",
    "print(tup)"
   ]
  },
  {
   "cell_type": "code",
   "execution_count": 50,
   "id": "6679fa08-c2fd-4316-af93-747b510cc7bf",
   "metadata": {},
   "outputs": [
    {
     "name": "stdout",
     "output_type": "stream",
     "text": [
      "Type is : <class 'tuple'>\n",
      "(1, 2, 'a', 'abc', 10.9, (3+7j))\n"
     ]
    }
   ],
   "source": [
    "#5.Convert an Tuple to a List.\n",
    "tup = (1,2,'a','abc',10.9,3+7j)\n",
    "print(\"Type is :\",type(tup))\n",
    "print(tup)"
   ]
  },
  {
   "cell_type": "code",
   "execution_count": 53,
   "id": "5a61f6c9-f49f-464c-ae19-fd5202a866a8",
   "metadata": {},
   "outputs": [
    {
     "name": "stdout",
     "output_type": "stream",
     "text": [
      "Type is : <class 'list'>\n",
      "[1, 2, 'a', 'abc', 10.9, (3+7j)]\n"
     ]
    }
   ],
   "source": [
    "lis=list(tup)\n",
    "print(\"Type is :\",type(lis))\n",
    "print(lis)"
   ]
  },
  {
   "cell_type": "code",
   "execution_count": 63,
   "id": "d931517a-22d7-4a4c-80e9-6e4dba4a4b7d",
   "metadata": {},
   "outputs": [
    {
     "name": "stdout",
     "output_type": "stream",
     "text": [
      "The binary string is : 0b1010\n",
      "Type is : <class 'str'>\n"
     ]
    }
   ],
   "source": [
    "#6.Convert an decimal no to a binary.\n",
    "ab = 10\n",
    "bin_str = bin(ab)\n",
    "print(\"The binary string is :\",bin_str)\n",
    "print(\"Type is :\",type(bin_str))"
   ]
  },
  {
   "cell_type": "code",
   "execution_count": 62,
   "id": "1d2a8e4e-c058-46e3-9b9d-52d366635928",
   "metadata": {},
   "outputs": [
    {
     "name": "stdout",
     "output_type": "stream",
     "text": [
      "Type is : <class 'int'>\n",
      "True\n",
      "Type is : <class 'bool'>\n"
     ]
    }
   ],
   "source": [
    "#7.Convert an non-zero number to boolean.\n",
    "ab = 786\n",
    "boolean_num=bool(ab)\n",
    "print(\"Type is :\",type(ab))\n",
    "print(boolean_num)\n",
    "print(\"Type is :\",type(boolean_num))"
   ]
  },
  {
   "cell_type": "code",
   "execution_count": null,
   "id": "721a81f3-1d6b-4a47-926d-a5ab3217287d",
   "metadata": {},
   "outputs": [],
   "source": []
  }
 ],
 "metadata": {
  "kernelspec": {
   "display_name": "Python 3 (ipykernel)",
   "language": "python",
   "name": "python3"
  },
  "language_info": {
   "codemirror_mode": {
    "name": "ipython",
    "version": 3
   },
   "file_extension": ".py",
   "mimetype": "text/x-python",
   "name": "python",
   "nbconvert_exporter": "python",
   "pygments_lexer": "ipython3",
   "version": "3.10.8"
  }
 },
 "nbformat": 4,
 "nbformat_minor": 5
}
