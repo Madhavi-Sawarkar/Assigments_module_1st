{
 "cells": [
  {
   "cell_type": "code",
   "execution_count": 1,
   "id": "e7c87e40-28a1-4ad0-88f1-9657afa03d6d",
   "metadata": {},
   "outputs": [],
   "source": [
    "#1. Why might you choose a deque from the collections module to implement a queue instead of using a regular Python list?\n",
    "\n",
    "#2. Can you explain a real-world scenario where using a stack would be a more practical choice than a list for data storage and retrieval?\n",
    "\n",
    "#3. What is the primary advantage of using sets in Python, and in what type of problem-solving scenarios are they most useful?\n",
    "\n",
    "#4. When might you choose to use an array instead of a list for storing numerical data in Python? What benefits do arrays offer in this context?\n",
    "\n",
    "#5. In Python, whats the primary difference between dictionaries and lists, and how does this difference impact their use cases in programming?"
   ]
  },
  {
   "cell_type": "code",
   "execution_count": null,
   "id": "afe44818-a124-4835-916e-2b2cc39483bf",
   "metadata": {},
   "outputs": [],
   "source": []
  }
 ],
 "metadata": {
  "kernelspec": {
   "display_name": "Python 3 (ipykernel)",
   "language": "python",
   "name": "python3"
  },
  "language_info": {
   "codemirror_mode": {
    "name": "ipython",
    "version": 3
   },
   "file_extension": ".py",
   "mimetype": "text/x-python",
   "name": "python",
   "nbconvert_exporter": "python",
   "pygments_lexer": "ipython3",
   "version": "3.10.8"
  }
 },
 "nbformat": 4,
 "nbformat_minor": 5
}
