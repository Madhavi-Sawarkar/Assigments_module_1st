{
 "cells": [
  {
   "cell_type": "code",
   "execution_count": 4,
   "id": "48c613ba-b6bb-4858-8ebb-59b38ae6f5df",
   "metadata": {},
   "outputs": [],
   "source": [
    "#1. Write a program to print numbers from 1 to 10, but stop if the number is 5.\n",
    "for i in range(1,11):\n",
    "    if i==5:\n",
    "        break\n",
    "    print(i)\n"
   ]
  },
  {
   "cell_type": "code",
   "execution_count": 19,
   "id": "c3d245cf-d7fb-411d-9397-5ca2fad82893",
   "metadata": {},
   "outputs": [
    {
     "name": "stdout",
     "output_type": "stream",
     "text": [
      "1\n",
      "2\n",
      "3\n",
      "ab\n",
      "cd\n"
     ]
    }
   ],
   "source": [
    "#2. Write a program to iterate through a list and stop when encountering a specific element.\n",
    "\n",
    "lis = [1,2,3,'ab','cd',3.45,3+7j,4,5,\"Pwskills\"]\n",
    "a = 3.45 # considering this one as a specific element\n",
    "\n",
    "for i in lis:\n",
    "    if i == a:\n",
    "        break\n",
    "    print(i)\n"
   ]
  },
  {
   "cell_type": "code",
   "execution_count": 16,
   "id": "068415ed-4a99-463b-adb8-c4135deade7d",
   "metadata": {},
   "outputs": [
    {
     "name": "stdout",
     "output_type": "stream",
     "text": [
      "1\n",
      "3\n",
      "5\n",
      "7\n",
      "9\n"
     ]
    }
   ],
   "source": [
    "#3. Write a program to skip printing even numbers from 1 to 10.\n",
    "for i in range(1,10):\n",
    "    if i%2==0:\n",
    "        continue\n",
    "    print(i\n",
    "        "
   ]
  },
  {
   "cell_type": "code",
   "execution_count": 14,
   "id": "2dc031bd-0809-4b09-bf0d-55db8a0380ee",
   "metadata": {},
   "outputs": [
    {
     "name": "stdout",
     "output_type": "stream",
     "text": [
      "0\n",
      "1\n",
      "2\n",
      "3\n",
      "4\n",
      "5\n",
      "6\n",
      "7\n",
      "8\n",
      "9\n"
     ]
    }
   ],
   "source": [
    "#4. Write a program to print numbers from 0 to 9 using range().\n",
    "for i in range(0,10):\n",
    "    print(i)"
   ]
  },
  {
   "cell_type": "code",
   "execution_count": 32,
   "id": "f137b54f-6ab8-450d-a902-7bd1a89d1496",
   "metadata": {},
   "outputs": [
    {
     "name": "stdout",
     "output_type": "stream",
     "text": [
      "Multiplication table for 1\n",
      "1 x 1 = 1\n",
      "1 x 2 = 2\n",
      "1 x 3 = 3\n",
      "1 x 4 = 4\n",
      "1 x 5 = 5\n",
      "1 x 6 = 6\n",
      "1 x 7 = 7\n",
      "1 x 8 = 8\n",
      "1 x 9 = 9\n",
      "1 x 10 = 10\n",
      "\n"
     ]
    }
   ],
   "source": [
    "#5. Write a program to print multiplication tables from 1 to 5, but stop after the first table is printed for each number.\n",
    "\n",
    "for num in range(1, 6):  # Numbers from 1 to 5\n",
    "    print(\"Multiplication table for\", num)\n",
    "    for i in range(1, 11):  # Multiplication from 1 to 10\n",
    "        print(num, \"x\", i, \"=\", num * i)\n",
    "    print()\n",
    "    #break\n",
    "    if num != 5:  # Stop after printing the first table for each number except 5\n",
    "        break\n",
    "        "
   ]
  },
  {
   "cell_type": "code",
   "execution_count": 23,
   "id": "3e77b6b5-a43b-45ec-af93-d492fdcb219b",
   "metadata": {},
   "outputs": [
    {
     "name": "stdout",
     "output_type": "stream",
     "text": [
      "1\n",
      "3\n",
      "5\n",
      "7\n",
      "9\n"
     ]
    }
   ],
   "source": [
    "#6. Write a program to skip printing even numbers using a while loop.\n",
    "\n",
    "num = 1\n",
    "while num <= 10:\n",
    "    if num % 2 == 0: \n",
    "        num += 1\n",
    "        continue  # Skip even numbers\n",
    "    print(num)\n",
    "    num += 1\n",
    "    "
   ]
  },
  {
   "cell_type": "code",
   "execution_count": null,
   "id": "b388ff01-bd1d-4da3-9a6b-8aa956fb4d17",
   "metadata": {},
   "outputs": [],
   "source": []
  },
  {
   "cell_type": "code",
   "execution_count": null,
   "id": "3a48a9dd-947b-4c65-8fe1-8b4753ee9e4e",
   "metadata": {},
   "outputs": [],
   "source": []
  }
 ],
 "metadata": {
  "kernelspec": {
   "display_name": "Python 3 (ipykernel)",
   "language": "python",
   "name": "python3"
  },
  "language_info": {
   "codemirror_mode": {
    "name": "ipython",
    "version": 3
   },
   "file_extension": ".py",
   "mimetype": "text/x-python",
   "name": "python",
   "nbconvert_exporter": "python",
   "pygments_lexer": "ipython3",
   "version": "3.10.8"
  }
 },
 "nbformat": 4,
 "nbformat_minor": 5
}
