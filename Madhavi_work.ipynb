{
 "cells": [
  {
   "cell_type": "code",
   "execution_count": 3,
   "id": "0063babd-ff9d-4dbf-bab3-446ee49a69a8",
   "metadata": {},
   "outputs": [
    {
     "name": "stdin",
     "output_type": "stream",
     "text": [
      " 8\n"
     ]
    },
    {
     "name": "stdout",
     "output_type": "stream",
     "text": [
      "8 * 1 = 8\n",
      "8 * 2 = 16\n",
      "8 * 3 = 24\n",
      "8 * 4 = 32\n",
      "8 * 5 = 40\n",
      "8 * 6 = 48\n",
      "8 * 7 = 56\n",
      "8 * 8 = 64\n",
      "8 * 9 = 72\n",
      "8 * 10 = 80\n"
     ]
    }
   ],
   "source": [
    "#Table Code\n",
    "num = int(input())\n",
    "num_row = 10\n",
    "\n",
    "for i in range(1, num_row+1):\n",
    "    res = num * i\n",
    "    print(num,\"*\",i,\"=\", res)"
   ]
  },
  {
   "cell_type": "code",
   "execution_count": null,
   "id": "fd3ce7d5-345c-41b7-b56c-aeaa45558039",
   "metadata": {},
   "outputs": [],
   "source": []
  }
 ],
 "metadata": {
  "kernelspec": {
   "display_name": "Python 3 (ipykernel)",
   "language": "python",
   "name": "python3"
  },
  "language_info": {
   "codemirror_mode": {
    "name": "ipython",
    "version": 3
   },
   "file_extension": ".py",
   "mimetype": "text/x-python",
   "name": "python",
   "nbconvert_exporter": "python",
   "pygments_lexer": "ipython3",
   "version": "3.10.8"
  }
 },
 "nbformat": 4,
 "nbformat_minor": 5
}
